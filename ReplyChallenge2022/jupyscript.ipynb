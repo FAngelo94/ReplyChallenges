{
 "cells": [
  {
   "cell_type": "code",
   "execution_count": 22,
   "metadata": {},
   "outputs": [],
   "source": [
    "# import of all libraries\n",
    "from tqdm import tqdm\n",
    "import itertools\n",
    "import random\n",
    "import numpy as np\n",
    "import threading\n",
    "import pandas as pd\n"
   ]
  },
  {
   "cell_type": "code",
   "execution_count": 23,
   "metadata": {},
   "outputs": [
    {
     "name": "stdout",
     "output_type": "stream",
     "text": [
      "total rows file 1 6\n",
      "total rows file 2 1001\n",
      "total rows file 3 3001\n",
      "total rows file 4 500001\n",
      "total rows file 5 3001\n",
      "total rows file 6 100001\n"
     ]
    }
   ],
   "source": [
    "# create function to read all row in 00-example.txt\n",
    "def read_file(filename):\n",
    "    with open(filename) as f:\n",
    "        return f.read().splitlines()\n",
    "\n",
    "file1 = read_file('00-example.txt')\n",
    "print('total rows file 1', len(file1))\n",
    "\n",
    "file2 = read_file('01-the-cloud-abyss.txt')\n",
    "print('total rows file 2', len(file2))\n",
    "\n",
    "file3 = read_file('02-iot-island-of-terror.txt')\n",
    "print('total rows file 3', len(file3))\n",
    "\n",
    "file4 = read_file('03-etheryum.txt')\n",
    "print('total rows file 4', len(file4))\n",
    "\n",
    "file5 = read_file('04-the-desert-of-autonomous-machines.txt')\n",
    "print('total rows file 5', len(file5))\n",
    "\n",
    "file6 = read_file('05-androids-armageddon.txt')\n",
    "print('total rows file 6', len(file6))"
   ]
  },
  {
   "cell_type": "code",
   "execution_count": 36,
   "metadata": {},
   "outputs": [
    {
     "name": "stdout",
     "output_type": "stream",
     "text": [
      "Si 100 Smax 1000 T 1000 D 500000\n"
     ]
    }
   ],
   "source": [
    "file = file4\n",
    "row1 = file[0].split(' ')\n",
    "Si = int(row1[0]) # amount of initial stamina\n",
    "Smax = int(row1[1]) # maximum stamina\n",
    "T = int(row1[2]) # turns available\n",
    "D = int(row1[3]) # demons available\n",
    "\n",
    "print('Si', Si, 'Smax', Smax, 'T', T, 'D', D)\n",
    "\n",
    "demons = []\n",
    "for i in range(1, int(D)+1):\n",
    "    row = file[i].split(' ')\n",
    "    d = {}\n",
    "    d['Sc'] = int(row[0]) # stamina cost to face demon\n",
    "    d['Tr'] = int(row[1]) # Turn required to recover stamina\n",
    "    d['Sr'] = int(row[2]) # Stamina recovered by defeating demon\n",
    "    d['Na'] = int(row[3]) # Number of turns you'll earn fragments after defeating demon\n",
    "    # cast elements of row[4:] to int\n",
    "    if d['Na'] != 0:\n",
    "        d['Fa'] = [int(x) for x in row[4:]] # Fragments earned after defeating demon\n",
    "        # translate d['Fa'] to numpy array\n",
    "        d['Fa'] = np.array(d['Fa'])\n",
    "    else:\n",
    "        d['Fa'] = np.array([])\n",
    "    demons.append(d)"
   ]
  },
  {
   "cell_type": "code",
   "execution_count": 37,
   "metadata": {},
   "outputs": [
    {
     "data": {
      "text/html": [
       "<div>\n",
       "<style scoped>\n",
       "    .dataframe tbody tr th:only-of-type {\n",
       "        vertical-align: middle;\n",
       "    }\n",
       "\n",
       "    .dataframe tbody tr th {\n",
       "        vertical-align: top;\n",
       "    }\n",
       "\n",
       "    .dataframe thead th {\n",
       "        text-align: right;\n",
       "    }\n",
       "</style>\n",
       "<table border=\"1\" class=\"dataframe\">\n",
       "  <thead>\n",
       "    <tr style=\"text-align: right;\">\n",
       "      <th></th>\n",
       "      <th>Sc</th>\n",
       "      <th>Tr</th>\n",
       "      <th>Sr</th>\n",
       "      <th>Na</th>\n",
       "      <th>Fa</th>\n",
       "    </tr>\n",
       "  </thead>\n",
       "  <tbody>\n",
       "    <tr>\n",
       "      <th>250392</th>\n",
       "      <td>11</td>\n",
       "      <td>89</td>\n",
       "      <td>40</td>\n",
       "      <td>0</td>\n",
       "      <td>[]</td>\n",
       "    </tr>\n",
       "    <tr>\n",
       "      <th>59329</th>\n",
       "      <td>12</td>\n",
       "      <td>55</td>\n",
       "      <td>40</td>\n",
       "      <td>0</td>\n",
       "      <td>[]</td>\n",
       "    </tr>\n",
       "    <tr>\n",
       "      <th>347814</th>\n",
       "      <td>11</td>\n",
       "      <td>23</td>\n",
       "      <td>40</td>\n",
       "      <td>0</td>\n",
       "      <td>[]</td>\n",
       "    </tr>\n",
       "    <tr>\n",
       "      <th>180210</th>\n",
       "      <td>11</td>\n",
       "      <td>47</td>\n",
       "      <td>40</td>\n",
       "      <td>0</td>\n",
       "      <td>[]</td>\n",
       "    </tr>\n",
       "    <tr>\n",
       "      <th>277770</th>\n",
       "      <td>13</td>\n",
       "      <td>19</td>\n",
       "      <td>40</td>\n",
       "      <td>0</td>\n",
       "      <td>[]</td>\n",
       "    </tr>\n",
       "    <tr>\n",
       "      <th>...</th>\n",
       "      <td>...</td>\n",
       "      <td>...</td>\n",
       "      <td>...</td>\n",
       "      <td>...</td>\n",
       "      <td>...</td>\n",
       "    </tr>\n",
       "    <tr>\n",
       "      <th>43962</th>\n",
       "      <td>7</td>\n",
       "      <td>1</td>\n",
       "      <td>4</td>\n",
       "      <td>0</td>\n",
       "      <td>[]</td>\n",
       "    </tr>\n",
       "    <tr>\n",
       "      <th>142880</th>\n",
       "      <td>7</td>\n",
       "      <td>20</td>\n",
       "      <td>4</td>\n",
       "      <td>4</td>\n",
       "      <td>[120, 400, 400, 200]</td>\n",
       "    </tr>\n",
       "    <tr>\n",
       "      <th>322927</th>\n",
       "      <td>7</td>\n",
       "      <td>120</td>\n",
       "      <td>4</td>\n",
       "      <td>16</td>\n",
       "      <td>[0, 0, 0, 0, 0, 0, 0, 0, 0, 0, 0, 0, 0, 0, 0, ...</td>\n",
       "    </tr>\n",
       "    <tr>\n",
       "      <th>472216</th>\n",
       "      <td>7</td>\n",
       "      <td>120</td>\n",
       "      <td>4</td>\n",
       "      <td>10</td>\n",
       "      <td>[0, 0, 0, 0, 0, 0, 0, 0, 0, 540]</td>\n",
       "    </tr>\n",
       "    <tr>\n",
       "      <th>248460</th>\n",
       "      <td>7</td>\n",
       "      <td>120</td>\n",
       "      <td>4</td>\n",
       "      <td>2</td>\n",
       "      <td>[500, 100]</td>\n",
       "    </tr>\n",
       "  </tbody>\n",
       "</table>\n",
       "<p>500000 rows × 5 columns</p>\n",
       "</div>"
      ],
      "text/plain": [
       "        Sc   Tr  Sr  Na                                                 Fa\n",
       "250392  11   89  40   0                                                 []\n",
       "59329   12   55  40   0                                                 []\n",
       "347814  11   23  40   0                                                 []\n",
       "180210  11   47  40   0                                                 []\n",
       "277770  13   19  40   0                                                 []\n",
       "...     ..  ...  ..  ..                                                ...\n",
       "43962    7    1   4   0                                                 []\n",
       "142880   7   20   4   4                               [120, 400, 400, 200]\n",
       "322927   7  120   4  16  [0, 0, 0, 0, 0, 0, 0, 0, 0, 0, 0, 0, 0, 0, 0, ...\n",
       "472216   7  120   4  10                   [0, 0, 0, 0, 0, 0, 0, 0, 0, 540]\n",
       "248460   7  120   4   2                                         [500, 100]\n",
       "\n",
       "[500000 rows x 5 columns]"
      ]
     },
     "execution_count": 37,
     "metadata": {},
     "output_type": "execute_result"
    }
   ],
   "source": [
    "# visualize demons in pandas dataframe\n",
    "df = pd.DataFrame(demons)\n",
    "# order df from Sr\n",
    "df = df.sort_values(by=['Sr'], ascending=False)\n",
    "# reset index\n",
    "df"
   ]
  },
  {
   "cell_type": "code",
   "execution_count": 43,
   "metadata": {},
   "outputs": [
    {
     "data": {
      "text/html": [
       "<div>\n",
       "<style scoped>\n",
       "    .dataframe tbody tr th:only-of-type {\n",
       "        vertical-align: middle;\n",
       "    }\n",
       "\n",
       "    .dataframe tbody tr th {\n",
       "        vertical-align: top;\n",
       "    }\n",
       "\n",
       "    .dataframe thead th {\n",
       "        text-align: right;\n",
       "    }\n",
       "</style>\n",
       "<table border=\"1\" class=\"dataframe\">\n",
       "  <thead>\n",
       "    <tr style=\"text-align: right;\">\n",
       "      <th></th>\n",
       "      <th>Sc</th>\n",
       "      <th>Tr</th>\n",
       "      <th>Sr</th>\n",
       "      <th>Na</th>\n",
       "      <th>Fa</th>\n",
       "    </tr>\n",
       "  </thead>\n",
       "  <tbody>\n",
       "    <tr>\n",
       "      <th>250392</th>\n",
       "      <td>11</td>\n",
       "      <td>89</td>\n",
       "      <td>40</td>\n",
       "      <td>0</td>\n",
       "      <td>0.0</td>\n",
       "    </tr>\n",
       "    <tr>\n",
       "      <th>59329</th>\n",
       "      <td>12</td>\n",
       "      <td>55</td>\n",
       "      <td>40</td>\n",
       "      <td>0</td>\n",
       "      <td>0.0</td>\n",
       "    </tr>\n",
       "    <tr>\n",
       "      <th>347814</th>\n",
       "      <td>11</td>\n",
       "      <td>23</td>\n",
       "      <td>40</td>\n",
       "      <td>0</td>\n",
       "      <td>0.0</td>\n",
       "    </tr>\n",
       "    <tr>\n",
       "      <th>180210</th>\n",
       "      <td>11</td>\n",
       "      <td>47</td>\n",
       "      <td>40</td>\n",
       "      <td>0</td>\n",
       "      <td>0.0</td>\n",
       "    </tr>\n",
       "    <tr>\n",
       "      <th>277770</th>\n",
       "      <td>13</td>\n",
       "      <td>19</td>\n",
       "      <td>40</td>\n",
       "      <td>0</td>\n",
       "      <td>0.0</td>\n",
       "    </tr>\n",
       "    <tr>\n",
       "      <th>...</th>\n",
       "      <td>...</td>\n",
       "      <td>...</td>\n",
       "      <td>...</td>\n",
       "      <td>...</td>\n",
       "      <td>...</td>\n",
       "    </tr>\n",
       "    <tr>\n",
       "      <th>43962</th>\n",
       "      <td>7</td>\n",
       "      <td>1</td>\n",
       "      <td>4</td>\n",
       "      <td>0</td>\n",
       "      <td>0.0</td>\n",
       "    </tr>\n",
       "    <tr>\n",
       "      <th>142880</th>\n",
       "      <td>7</td>\n",
       "      <td>20</td>\n",
       "      <td>4</td>\n",
       "      <td>4</td>\n",
       "      <td>1120.0</td>\n",
       "    </tr>\n",
       "    <tr>\n",
       "      <th>322927</th>\n",
       "      <td>7</td>\n",
       "      <td>120</td>\n",
       "      <td>4</td>\n",
       "      <td>16</td>\n",
       "      <td>2205.0</td>\n",
       "    </tr>\n",
       "    <tr>\n",
       "      <th>472216</th>\n",
       "      <td>7</td>\n",
       "      <td>120</td>\n",
       "      <td>4</td>\n",
       "      <td>10</td>\n",
       "      <td>540.0</td>\n",
       "    </tr>\n",
       "    <tr>\n",
       "      <th>248460</th>\n",
       "      <td>7</td>\n",
       "      <td>120</td>\n",
       "      <td>4</td>\n",
       "      <td>2</td>\n",
       "      <td>600.0</td>\n",
       "    </tr>\n",
       "  </tbody>\n",
       "</table>\n",
       "<p>500000 rows × 5 columns</p>\n",
       "</div>"
      ],
      "text/plain": [
       "        Sc   Tr  Sr  Na      Fa\n",
       "250392  11   89  40   0     0.0\n",
       "59329   12   55  40   0     0.0\n",
       "347814  11   23  40   0     0.0\n",
       "180210  11   47  40   0     0.0\n",
       "277770  13   19  40   0     0.0\n",
       "...     ..  ...  ..  ..     ...\n",
       "43962    7    1   4   0     0.0\n",
       "142880   7   20   4   4  1120.0\n",
       "322927   7  120   4  16  2205.0\n",
       "472216   7  120   4  10   540.0\n",
       "248460   7  120   4   2   600.0\n",
       "\n",
       "[500000 rows x 5 columns]"
      ]
     },
     "execution_count": 43,
     "metadata": {},
     "output_type": "execute_result"
    }
   ],
   "source": [
    "df2 = df.copy()\n",
    "#substitute Fa array field with the sum of Fa\n",
    "df2['Fa'] = df2['Fa'].apply(lambda x: x.sum())\n",
    "# remove Fa == 0 and Sr == 0\n",
    "df2 = df2[(df2['Fa'] + df2['Sr'] != 0)]\n",
    "df2"
   ]
  },
  {
   "cell_type": "code",
   "execution_count": 8,
   "metadata": {},
   "outputs": [],
   "source": [
    "'''\n",
    "Create a function to calculate the total fragments earned\n",
    "'''\n",
    "def calculate_fragments(seq):\n",
    "    fragments = 0\n",
    "    stamina = Si\n",
    "    demons_defeated = []\n",
    "    defeated_turns = []\n",
    "    for i in range(T):\n",
    "        # create loop for deamons_defeated\n",
    "        for j in range(len(demons_defeated)):\n",
    "            # add fragments\n",
    "            if len(demons[demons_defeated[j]]['Fa']) > i - defeated_turns[j] and len(demons[demons_defeated[j]]['Fa']) > 0:\n",
    "                fragments += demons[demons_defeated[j]]['Fa'][i - defeated_turns[j]]\n",
    "            # recharge stamina\n",
    "            if stamina < Smax and defeated_turns[j] + demons[demons_defeated[j]]['Tr'] == i:\n",
    "                stamina += demons[demons_defeated[j]]['Sr']\n",
    "                if stamina > Smax:\n",
    "                    stamina = Smax\n",
    "        # defeat demons\n",
    "        if len(demons_defeated) < len(seq) and stamina >= demons[seq[len(demons_defeated)]]['Sc']:\n",
    "            stamina -= demons[seq[len(demons_defeated)]]['Sc']\n",
    "            demons_defeated.append(seq[len(demons_defeated)])\n",
    "            defeated_turns.append(i)\n",
    "            if len(demons[demons_defeated[-1]]['Fa']) > 0:\n",
    "                fragments += demons[demons_defeated[-1]]['Fa'][0]\n",
    "    return fragments"
   ]
  },
  {
   "cell_type": "code",
   "execution_count": 9,
   "metadata": {},
   "outputs": [
    {
     "name": "stdout",
     "output_type": "stream",
     "text": [
      "Solution randomly\n"
     ]
    },
    {
     "name": "stderr",
     "output_type": "stream",
     "text": [
      "100%|██████████| 1000/1000 [00:00<00:00, 62237.42it/s]"
     ]
    },
    {
     "name": "stdout",
     "output_type": "stream",
     "text": [
      "Best fragments 125\n"
     ]
    },
    {
     "name": "stderr",
     "output_type": "stream",
     "text": [
      "\n"
     ]
    }
   ],
   "source": [
    "# generate a random sequence of demons\n",
    "def generate_random_seq(D):\n",
    "    seq = random.sample(range(D), D)\n",
    "    return seq\n",
    "\n",
    "# Find solution randomly\n",
    "def find_solution_randomly(D):\n",
    "    best_seq = []\n",
    "    best_fragments = 0\n",
    "    for i in tqdm(range(1000)):\n",
    "        seq = generate_random_seq(D)\n",
    "        fragments = calculate_fragments(seq)\n",
    "        if fragments > best_fragments:\n",
    "            best_fragments = fragments\n",
    "            best_seq = seq\n",
    "    return best_seq, best_fragments\n",
    "print('Solution randomly')\n",
    "best_seq, best_fragments = find_solution_randomly(D)\n",
    "# print('Best sequence', best_seq)\n",
    "print('Best fragments', best_fragments)"
   ]
  },
  {
   "cell_type": "code",
   "execution_count": 17,
   "metadata": {},
   "outputs": [
    {
     "name": "stdout",
     "output_type": "stream",
     "text": [
      "Solution optimized\n"
     ]
    },
    {
     "name": "stderr",
     "output_type": "stream",
     "text": [
      "100%|██████████| 1000/1000 [00:03<00:00, 280.56it/s]"
     ]
    },
    {
     "name": "stdout",
     "output_type": "stream",
     "text": [
      "Best sequence [189. 421.  64. 758. 179. 938. 209. 739. 350. 136. 327. 665. 429. 358.\n",
      " 210. 404. 508. 185. 495. 289. 812.  96. 607. 811. 787. 606.  20.   8.\n",
      "  87. 896. 916. 530. 765. 424. 776. 553. 444. 680. 805. 773. 820. 303.\n",
      " 809. 544. 415. 594. 699. 191. 816. 851. 855.  19. 455. 342. 897. 541.\n",
      " 447. 309. 290. 982. 567. 702.   0. 250. 143. 716. 885. 988.  59. 305.\n",
      " 710. 521. 498. 688. 269. 482.  21. 137. 121. 843. 296. 333. 291. 886.\n",
      " 331. 701. 410. 378. 591. 823. 365. 905. 750. 307. 611.  75.  89. 613.\n",
      " 641. 134. 672. 501. 322. 123. 859. 540. 737. 159. 719.  36. 200. 946.\n",
      " 726. 683. 245. 846. 401. 528. 524. 216. 919. 573. 952. 616. 427. 232.\n",
      " 762. 651. 717. 997. 779. 398.  12. 363. 924. 797. 862. 720.  54. 352.\n",
      " 237. 201. 756. 793.  67. 909. 713. 218. 246. 880. 985. 760. 584. 546.\n",
      " 945. 354. 359. 537. 120. 932. 355.  48.  41. 734. 243. 977. 127. 381.\n",
      " 995.  10. 323. 837. 425. 548. 522. 920. 818. 996. 928.  24. 593. 666.\n",
      " 543. 686. 437. 638. 163. 391. 335. 568.   6. 377. 282. 397.   2. 112.\n",
      " 379. 531. 316. 239. 744. 642. 653. 967. 450.  34. 738. 619. 139. 512.\n",
      " 104. 483. 835. 791. 639. 939. 356. 572. 603. 317. 370. 970.  63. 351.\n",
      " 169. 742. 431. 592. 196. 311. 258. 590. 951. 428. 992. 279. 815. 456.\n",
      " 558. 960. 235. 479. 929. 443. 138. 347. 927. 668. 941. 615. 197.  69.\n",
      " 259. 448. 219. 399. 848. 409. 110. 193. 868.  47. 574. 108. 184. 380.\n",
      " 458. 890. 505. 795. 148. 640. 231. 228. 694. 346. 538.  23. 274.  81.\n",
      " 366. 244. 695. 953. 100. 361. 660. 627. 542. 481. 576. 870. 803. 234.\n",
      " 948. 649. 580. 156. 854. 962. 549. 511.   1. 101. 408. 340. 525. 687.\n",
      " 551. 171. 167. 753. 504. 654. 861. 586. 684. 821. 226. 984. 838. 569.\n",
      " 348. 205.  73.  31. 605. 129. 703.  86. 866. 670. 872. 273. 785.  39.\n",
      " 516. 308. 470.  99. 808. 469. 477.  35. 472. 490. 957. 943. 949. 617.\n",
      " 277. 106. 873. 257. 696. 675. 693. 240. 980.   4. 373. 624. 801. 157.\n",
      " 827. 467. 802. 385. 203.  83. 190. 489. 736.  68. 186. 194. 784. 176.\n",
      " 299. 595. 266. 376. 937. 725. 414. 509. 707. 743. 386. 635. 295. 800.\n",
      " 233. 188. 786. 406. 690. 648. 918. 513. 150. 754. 856. 829. 412. 552.\n",
      "   5. 476. 781. 933.  42. 709. 602. 221. 529. 506. 172. 454. 874. 814.\n",
      " 174. 383. 936. 853.  46. 264. 964. 206. 468. 321. 658. 441. 198. 631.\n",
      " 207. 270. 825. 214. 116. 390.  80. 942. 217. 958. 473. 669. 560. 260.\n",
      " 535. 585. 384. 646. 876. 453. 449. 741. 561. 330. 917. 122. 864. 986.\n",
      " 402. 515. 950. 625. 242. 545. 577. 582. 794. 583. 850. 222. 609. 283.\n",
      " 153. 527.  49. 457. 559. 597. 636. 673. 325. 336. 413. 930. 170. 931.\n",
      " 131. 879. 241. 901.  50.  56. 704. 981. 806. 712. 771. 155. 388. 500.\n",
      " 175.  38. 842. 230. 315.  97. 478. 497. 789. 433. 759.  74. 389. 493.\n",
      "  77. 430. 281. 152. 748. 253. 181. 520.  52.  13. 103. 182. 867. 679.\n",
      " 238.  22. 878. 465. 173. 140. 711. 286.  28. 973. 416. 411.  45. 539.\n",
      " 320. 581. 151. 107. 671. 486. 371. 422. 598. 834. 956. 676. 578. 579.\n",
      "  29. 947.  30. 656. 536.  85. 135.  71.]\n",
      "Best fragments 90798\n"
     ]
    },
    {
     "name": "stderr",
     "output_type": "stream",
     "text": [
      "\n"
     ]
    }
   ],
   "source": [
    "# Calculate the fragments earned by defeating a demon in a specific turn depending on the max turn we have until the end of the game\n",
    "def fragment_will_obtain(demon, turn_defeated):\n",
    "    # sum all values in array demons[demon]['Fa'] from 0 to the end of the array or to turn_defeated if array is long enough\n",
    "    return np.sum(demons[demon]['Fa'][0:min(len(demons[demon]['Fa']), turn_defeated)])\n",
    "def calculate_sequence_to_optimize_fragment():\n",
    "    stamina = Si\n",
    "    demons_defeated = np.array([])\n",
    "    # create npm array long T\n",
    "    stamina_recovered = np.array([0]*T)\n",
    "    for i in tqdm(range(T)):\n",
    "        # check if stamina is recovered\n",
    "        stamina += stamina_recovered[i]\n",
    "        if stamina > Smax:\n",
    "            stamina = Smax\n",
    "        # find demon to kill with more fragments\n",
    "        best_fragments = -1\n",
    "        best_demon = -1\n",
    "        for j in range(D):\n",
    "            # check if demon is not in demons_defeated numpy array\n",
    "            if j not in demons_defeated:\n",
    "                # check if stamina is enough to kill demon\n",
    "                if stamina >= demons[j]['Sc']:\n",
    "                    # calculate fragments obtained\n",
    "                    fragments = fragment_will_obtain(j, T-i)\n",
    "                    # check if fragments obtained are better than the best\n",
    "                    if fragments > best_fragments:\n",
    "                        best_fragments = fragments\n",
    "                        best_demon = j\n",
    "        if best_demon != -1:\n",
    "            # kill demon\n",
    "            stamina -= demons[best_demon]['Sc']\n",
    "            # add demon to demons_defeated\n",
    "            demons_defeated = np.append(demons_defeated, best_demon)\n",
    "            # add stamina recovered\n",
    "            if demons[best_demon]['Tr'] > 0:\n",
    "                if len(stamina_recovered) > i+demons[best_demon]['Tr']:\n",
    "                    stamina_recovered[i+demons[best_demon]['Tr']] += demons[best_demon]['Sr']\n",
    "            else:\n",
    "                stamina += demons[best_demon]['Sr']\n",
    "    return demons_defeated\n",
    "print('Solution optimized')\n",
    "best_seq = calculate_sequence_to_optimize_fragment()\n",
    "print('Best sequence', best_seq)\n",
    "# cast best_seq to int\n",
    "best_seq = [int(x) for x in best_seq]\n",
    "print('Best fragments', calculate_fragments(best_seq))"
   ]
  },
  {
   "cell_type": "code",
   "execution_count": 98,
   "metadata": {},
   "outputs": [],
   "source": [
    "# print sequence in a file txt with 1 row per number of sequence\n",
    "with open('output.txt', 'w') as f:\n",
    "    for i in best_seq:\n",
    "        f.write(str(i) + '\\n')"
   ]
  },
  {
   "cell_type": "code",
   "execution_count": 73,
   "metadata": {},
   "outputs": [
    {
     "name": "stderr",
     "output_type": "stream",
     "text": [
      "476it [00:07, 59.57it/s]\n"
     ]
    },
    {
     "ename": "KeyboardInterrupt",
     "evalue": "",
     "output_type": "error",
     "traceback": [
      "\u001b[1;31m---------------------------------------------------------------------------\u001b[0m",
      "\u001b[1;31mKeyboardInterrupt\u001b[0m                         Traceback (most recent call last)",
      "Cell \u001b[1;32mIn[73], line 11\u001b[0m\n\u001b[0;32m      9\u001b[0m             max_seq \u001b[39m=\u001b[39m seq\n\u001b[0;32m     10\u001b[0m     \u001b[39mreturn\u001b[39;00m max_fragments, max_seq\n\u001b[1;32m---> 11\u001b[0m \u001b[39mmax\u001b[39m, seq \u001b[39m=\u001b[39m get_max_fragments()\n\u001b[0;32m     12\u001b[0m \u001b[39mprint\u001b[39m(\u001b[39m'\u001b[39m\u001b[39mmax fragments\u001b[39m\u001b[39m'\u001b[39m, \u001b[39mmax\u001b[39m)\n\u001b[0;32m     13\u001b[0m \u001b[39mprint\u001b[39m(\u001b[39m'\u001b[39m\u001b[39msequence\u001b[39m\u001b[39m'\u001b[39m, seq)\n",
      "Cell \u001b[1;32mIn[73], line 6\u001b[0m, in \u001b[0;36mget_max_fragments\u001b[1;34m()\u001b[0m\n\u001b[0;32m      4\u001b[0m max_seq \u001b[39m=\u001b[39m []\n\u001b[0;32m      5\u001b[0m \u001b[39mfor\u001b[39;00m seq \u001b[39min\u001b[39;00m tqdm(itertools\u001b[39m.\u001b[39mpermutations(\u001b[39mrange\u001b[39m(D))):\n\u001b[1;32m----> 6\u001b[0m     fragments \u001b[39m=\u001b[39m calculate_fragments(seq)\n\u001b[0;32m      7\u001b[0m     \u001b[39mif\u001b[39;00m fragments \u001b[39m>\u001b[39m max_fragments:\n\u001b[0;32m      8\u001b[0m         max_fragments \u001b[39m=\u001b[39m fragments\n",
      "Cell \u001b[1;32mIn[69], line 16\u001b[0m, in \u001b[0;36mcalculate_fragments\u001b[1;34m(seq)\u001b[0m\n\u001b[0;32m     14\u001b[0m     fragments \u001b[39m+\u001b[39m\u001b[39m=\u001b[39m demons[demons_defeated[j]][\u001b[39m'\u001b[39m\u001b[39mFa\u001b[39m\u001b[39m'\u001b[39m][i \u001b[39m-\u001b[39m defeated_turns[j]]\n\u001b[0;32m     15\u001b[0m \u001b[39m# recharge stamina\u001b[39;00m\n\u001b[1;32m---> 16\u001b[0m \u001b[39mif\u001b[39;00m stamina \u001b[39m<\u001b[39m Smax \u001b[39mand\u001b[39;00m defeated_turns[j] \u001b[39m+\u001b[39;49m demons[demons_defeated[j]][\u001b[39m'\u001b[39;49m\u001b[39mTr\u001b[39;49m\u001b[39m'\u001b[39;49m] \u001b[39m==\u001b[39;49m i:\n\u001b[0;32m     17\u001b[0m     stamina \u001b[39m+\u001b[39m\u001b[39m=\u001b[39m demons[demons_defeated[j]][\u001b[39m'\u001b[39m\u001b[39mSr\u001b[39m\u001b[39m'\u001b[39m]\n\u001b[0;32m     18\u001b[0m     \u001b[39mif\u001b[39;00m stamina \u001b[39m>\u001b[39m Smax:\n",
      "\u001b[1;31mKeyboardInterrupt\u001b[0m: "
     ]
    }
   ],
   "source": [
    "# create a function that get max value of fragments for all possible combinations of demons without repetition\n",
    "# usable only for first example\n",
    "def get_max_fragments():\n",
    "    max_fragments = 0\n",
    "    max_seq = []\n",
    "    for seq in tqdm(itertools.permutations(range(D))):\n",
    "        fragments = calculate_fragments(seq)\n",
    "        if fragments > max_fragments:\n",
    "            max_fragments = fragments\n",
    "            max_seq = seq\n",
    "    return max_fragments, max_seq\n",
    "max, seq = get_max_fragments()\n",
    "print('max fragments', max)\n",
    "print('sequence', seq)"
   ]
  },
  {
   "cell_type": "code",
   "execution_count": null,
   "metadata": {},
   "outputs": [],
   "source": [
    "# print sequence in a file txt with 1 row per number of sequence\n",
    "with open('output.txt', 'w') as f:\n",
    "    for i in seq:\n",
    "        f.write(str(i) + '\\n')"
   ]
  },
  {
   "cell_type": "code",
   "execution_count": 47,
   "metadata": {},
   "outputs": [
    {
     "ename": "IndexError",
     "evalue": "list index out of range",
     "output_type": "error",
     "traceback": [
      "\u001b[1;31m---------------------------------------------------------------------------\u001b[0m",
      "\u001b[1;31mIndexError\u001b[0m                                Traceback (most recent call last)",
      "Cell \u001b[1;32mIn[47], line 1\u001b[0m\n\u001b[1;32m----> 1\u001b[0m t \u001b[39m=\u001b[39m [\u001b[39m1\u001b[39;49m,\u001b[39m2\u001b[39;49m,\u001b[39m3\u001b[39;49m,\u001b[39m4\u001b[39;49m][\u001b[39m4\u001b[39;49m]\n\u001b[0;32m      2\u001b[0m t\n",
      "\u001b[1;31mIndexError\u001b[0m: list index out of range"
     ]
    }
   ],
   "source": [
    "t = [1,2,3,4][4]\n",
    "t"
   ]
  },
  {
   "cell_type": "code",
   "execution_count": null,
   "metadata": {},
   "outputs": [],
   "source": []
  }
 ],
 "metadata": {
  "kernelspec": {
   "display_name": "Python 3",
   "language": "python",
   "name": "python3"
  },
  "language_info": {
   "codemirror_mode": {
    "name": "ipython",
    "version": 3
   },
   "file_extension": ".py",
   "mimetype": "text/x-python",
   "name": "python",
   "nbconvert_exporter": "python",
   "pygments_lexer": "ipython3",
   "version": "3.10.6"
  },
  "orig_nbformat": 4,
  "vscode": {
   "interpreter": {
    "hash": "b4f0c9dd2d67202e2a2a5ead2fd42b99520b3d6742a51f536a2fc26888560eb5"
   }
  }
 },
 "nbformat": 4,
 "nbformat_minor": 2
}
